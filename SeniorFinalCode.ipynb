{
  "nbformat": 4,
  "nbformat_minor": 0,
  "metadata": {
    "colab": {
      "provenance": []
    },
    "kernelspec": {
      "name": "python3",
      "display_name": "Python 3"
    },
    "language_info": {
      "name": "python"
    }
  },
  "cells": [
    {
      "cell_type": "markdown",
      "source": [
        "**#0 Installing and Importing Data and Functions**"
      ],
      "metadata": {
        "id": "JUqNNKUteSnx"
      }
    },
    {
      "cell_type": "code",
      "execution_count": 1,
      "metadata": {
        "colab": {
          "base_uri": "https://localhost:8080/"
        },
        "id": "QKMwdXOoeN3J",
        "outputId": "e81f6ecb-cc91-487b-99e6-696bfacba2a0"
      },
      "outputs": [
        {
          "output_type": "stream",
          "name": "stdout",
          "text": [
            "Collecting ucimlrepo\n",
            "  Downloading ucimlrepo-0.0.3-py3-none-any.whl (7.0 kB)\n",
            "Installing collected packages: ucimlrepo\n",
            "Successfully installed ucimlrepo-0.0.3\n",
            "\u001b[2K     \u001b[90m━━━━━━━━━━━━━━━━━━━━━━━━━━━━━━━━━━━━━━━━\u001b[0m \u001b[32m128.9/128.9 kB\u001b[0m \u001b[31m890.1 kB/s\u001b[0m eta \u001b[36m0:00:00\u001b[0m\n",
            "\u001b[?25h"
          ]
        }
      ],
      "source": [
        "!pip install ucimlrepo\n",
        "%pip install -q -U keras-tuner"
      ]
    },
    {
      "cell_type": "code",
      "source": [
        "import pandas as pd\n",
        "from ucimlrepo import fetch_ucirepo\n",
        "import seaborn as sns\n",
        "import matplotlib.pyplot as plt\n",
        "import numpy as np\n",
        "import matplotlib.pyplot as plt\n",
        "import seaborn as sns\n",
        "from sklearn.preprocessing import OneHotEncoder\n",
        "from pandas.plotting import lag_plot\n",
        "from pandas.core.frame import DataFrame\n",
        "from google.colab import drive\n",
        "from sklearn.preprocessing import MultiLabelBinarizer\n",
        "from sklearn.preprocessing import LabelBinarizer\n",
        "from sklearn.model_selection import train_test_split\n",
        "from sklearn.preprocessing import StandardScaler\n",
        "from sklearn.preprocessing import MinMaxScaler\n",
        "from sklearn.metrics import confusion_matrix, precision_score, recall_score, f1_score, accuracy_score, mean_squared_error\n",
        "from sklearn.linear_model import SGDRegressor\n",
        "from sklearn.linear_model import LogisticRegression\n",
        "from sklearn.svm import SVR\n",
        "from sklearn.linear_model import BayesianRidge\n",
        "from sklearn.linear_model import LinearRegression\n",
        "from sklearn.ensemble import GradientBoostingRegressor\n",
        "from sklearn.tree import DecisionTreeRegressor\n",
        "from sklearn.metrics import confusion_matrix\n",
        "from sklearn.metrics import auc, accuracy_score, confusion_matrix, mean_squared_error\n",
        "from sklearn.model_selection import cross_val_score, GridSearchCV, KFold, RandomizedSearchCV, train_test_split\n",
        "import xgboost as xgb\n",
        "from sklearn.model_selection import train_test_split\n",
        "from sklearn.ensemble import RandomForestClassifier\n",
        "from sklearn.metrics import accuracy_score\n",
        "from sklearn.metrics import f1_score\n",
        "from sklearn.datasets import make_classification\n",
        "from sklearn.model_selection import GridSearchCV\n",
        "from sklearn.metrics import mean_squared_error\n",
        "\n",
        "import tensorflow as tf\n",
        "import matplotlib.pyplot as plt\n",
        "from sklearn.linear_model import SGDClassifier, LogisticRegression\n",
        "from sklearn.neural_network import MLPClassifier\n",
        "from sklearn.datasets import make_classification\n",
        "from sklearn.model_selection import train_test_split\n",
        "from sklearn.preprocessing import StandardScaler\n",
        "from sklearn.metrics import accuracy_score\n",
        "from tensorflow.keras.optimizers import SGD\n",
        "from tensorflow.keras.models import Sequential\n",
        "from tensorflow.keras.layers import Dense\n",
        "import keras_tuner as kt\n",
        "from sklearn.metrics import mean_squared_error,mean_absolute_error,explained_variance_score"
      ],
      "metadata": {
        "id": "xB3IkbfVetOC"
      },
      "execution_count": 2,
      "outputs": []
    },
    {
      "cell_type": "code",
      "source": [
        "adult = fetch_ucirepo(id=2)\n",
        "\n",
        "# data (as pandas dataframes)\n",
        "X = adult.data.features\n",
        "y = adult.data.targets\n",
        "X[\"income\"] = y\n",
        "df = X\n",
        "\n",
        "df['income'].replace(\"<=50K.\", \"<=50K\", inplace = True)\n",
        "df['income'].replace(\">=50K.\", \">=50K\", inplace = True)\n",
        "df['income'].replace(\"<50K.\", \"<50K\", inplace = True)\n",
        "df['income'].replace(\">50K.\", \">50K\", inplace = True)\n",
        "y['income'].replace(\"<=50K.\", \"<=50K\", inplace = True)\n",
        "y['income'].replace(\">=50K.\", \">=50K\", inplace = True)\n",
        "y['income'].replace(\"<50K.\", \"<50K\", inplace = True)\n",
        "y['income'].replace(\">50K.\", \">50K\", inplace = True)\n",
        "\n",
        "X[\"income\"] = y\n",
        "\n",
        "df.head()"
      ],
      "metadata": {
        "id": "ERSMhgItfXIw",
        "colab": {
          "base_uri": "https://localhost:8080/",
          "height": 544
        },
        "outputId": "419c7098-c6ac-45b9-8e6e-05c65cf3dcb7"
      },
      "execution_count": 3,
      "outputs": [
        {
          "output_type": "stream",
          "name": "stderr",
          "text": [
            "<ipython-input-3-cfd7056057f6>:13: SettingWithCopyWarning: \n",
            "A value is trying to be set on a copy of a slice from a DataFrame\n",
            "\n",
            "See the caveats in the documentation: https://pandas.pydata.org/pandas-docs/stable/user_guide/indexing.html#returning-a-view-versus-a-copy\n",
            "  y['income'].replace(\"<=50K.\", \"<=50K\", inplace = True)\n",
            "<ipython-input-3-cfd7056057f6>:14: SettingWithCopyWarning: \n",
            "A value is trying to be set on a copy of a slice from a DataFrame\n",
            "\n",
            "See the caveats in the documentation: https://pandas.pydata.org/pandas-docs/stable/user_guide/indexing.html#returning-a-view-versus-a-copy\n",
            "  y['income'].replace(\">=50K.\", \">=50K\", inplace = True)\n",
            "<ipython-input-3-cfd7056057f6>:15: SettingWithCopyWarning: \n",
            "A value is trying to be set on a copy of a slice from a DataFrame\n",
            "\n",
            "See the caveats in the documentation: https://pandas.pydata.org/pandas-docs/stable/user_guide/indexing.html#returning-a-view-versus-a-copy\n",
            "  y['income'].replace(\"<50K.\", \"<50K\", inplace = True)\n",
            "<ipython-input-3-cfd7056057f6>:16: SettingWithCopyWarning: \n",
            "A value is trying to be set on a copy of a slice from a DataFrame\n",
            "\n",
            "See the caveats in the documentation: https://pandas.pydata.org/pandas-docs/stable/user_guide/indexing.html#returning-a-view-versus-a-copy\n",
            "  y['income'].replace(\">50K.\", \">50K\", inplace = True)\n"
          ]
        },
        {
          "output_type": "execute_result",
          "data": {
            "text/plain": [
              "   age         workclass  fnlwgt  education  education-num  \\\n",
              "0   39         State-gov   77516  Bachelors             13   \n",
              "1   50  Self-emp-not-inc   83311  Bachelors             13   \n",
              "2   38           Private  215646    HS-grad              9   \n",
              "3   53           Private  234721       11th              7   \n",
              "4   28           Private  338409  Bachelors             13   \n",
              "\n",
              "       marital-status         occupation   relationship   race     sex  \\\n",
              "0       Never-married       Adm-clerical  Not-in-family  White    Male   \n",
              "1  Married-civ-spouse    Exec-managerial        Husband  White    Male   \n",
              "2            Divorced  Handlers-cleaners  Not-in-family  White    Male   \n",
              "3  Married-civ-spouse  Handlers-cleaners        Husband  Black    Male   \n",
              "4  Married-civ-spouse     Prof-specialty           Wife  Black  Female   \n",
              "\n",
              "   capital-gain  capital-loss  hours-per-week native-country income  \n",
              "0          2174             0              40  United-States  <=50K  \n",
              "1             0             0              13  United-States  <=50K  \n",
              "2             0             0              40  United-States  <=50K  \n",
              "3             0             0              40  United-States  <=50K  \n",
              "4             0             0              40           Cuba  <=50K  "
            ],
            "text/html": [
              "\n",
              "  <div id=\"df-2f148b49-e0bf-4066-b0b0-4b473bc53bdd\" class=\"colab-df-container\">\n",
              "    <div>\n",
              "<style scoped>\n",
              "    .dataframe tbody tr th:only-of-type {\n",
              "        vertical-align: middle;\n",
              "    }\n",
              "\n",
              "    .dataframe tbody tr th {\n",
              "        vertical-align: top;\n",
              "    }\n",
              "\n",
              "    .dataframe thead th {\n",
              "        text-align: right;\n",
              "    }\n",
              "</style>\n",
              "<table border=\"1\" class=\"dataframe\">\n",
              "  <thead>\n",
              "    <tr style=\"text-align: right;\">\n",
              "      <th></th>\n",
              "      <th>age</th>\n",
              "      <th>workclass</th>\n",
              "      <th>fnlwgt</th>\n",
              "      <th>education</th>\n",
              "      <th>education-num</th>\n",
              "      <th>marital-status</th>\n",
              "      <th>occupation</th>\n",
              "      <th>relationship</th>\n",
              "      <th>race</th>\n",
              "      <th>sex</th>\n",
              "      <th>capital-gain</th>\n",
              "      <th>capital-loss</th>\n",
              "      <th>hours-per-week</th>\n",
              "      <th>native-country</th>\n",
              "      <th>income</th>\n",
              "    </tr>\n",
              "  </thead>\n",
              "  <tbody>\n",
              "    <tr>\n",
              "      <th>0</th>\n",
              "      <td>39</td>\n",
              "      <td>State-gov</td>\n",
              "      <td>77516</td>\n",
              "      <td>Bachelors</td>\n",
              "      <td>13</td>\n",
              "      <td>Never-married</td>\n",
              "      <td>Adm-clerical</td>\n",
              "      <td>Not-in-family</td>\n",
              "      <td>White</td>\n",
              "      <td>Male</td>\n",
              "      <td>2174</td>\n",
              "      <td>0</td>\n",
              "      <td>40</td>\n",
              "      <td>United-States</td>\n",
              "      <td>&lt;=50K</td>\n",
              "    </tr>\n",
              "    <tr>\n",
              "      <th>1</th>\n",
              "      <td>50</td>\n",
              "      <td>Self-emp-not-inc</td>\n",
              "      <td>83311</td>\n",
              "      <td>Bachelors</td>\n",
              "      <td>13</td>\n",
              "      <td>Married-civ-spouse</td>\n",
              "      <td>Exec-managerial</td>\n",
              "      <td>Husband</td>\n",
              "      <td>White</td>\n",
              "      <td>Male</td>\n",
              "      <td>0</td>\n",
              "      <td>0</td>\n",
              "      <td>13</td>\n",
              "      <td>United-States</td>\n",
              "      <td>&lt;=50K</td>\n",
              "    </tr>\n",
              "    <tr>\n",
              "      <th>2</th>\n",
              "      <td>38</td>\n",
              "      <td>Private</td>\n",
              "      <td>215646</td>\n",
              "      <td>HS-grad</td>\n",
              "      <td>9</td>\n",
              "      <td>Divorced</td>\n",
              "      <td>Handlers-cleaners</td>\n",
              "      <td>Not-in-family</td>\n",
              "      <td>White</td>\n",
              "      <td>Male</td>\n",
              "      <td>0</td>\n",
              "      <td>0</td>\n",
              "      <td>40</td>\n",
              "      <td>United-States</td>\n",
              "      <td>&lt;=50K</td>\n",
              "    </tr>\n",
              "    <tr>\n",
              "      <th>3</th>\n",
              "      <td>53</td>\n",
              "      <td>Private</td>\n",
              "      <td>234721</td>\n",
              "      <td>11th</td>\n",
              "      <td>7</td>\n",
              "      <td>Married-civ-spouse</td>\n",
              "      <td>Handlers-cleaners</td>\n",
              "      <td>Husband</td>\n",
              "      <td>Black</td>\n",
              "      <td>Male</td>\n",
              "      <td>0</td>\n",
              "      <td>0</td>\n",
              "      <td>40</td>\n",
              "      <td>United-States</td>\n",
              "      <td>&lt;=50K</td>\n",
              "    </tr>\n",
              "    <tr>\n",
              "      <th>4</th>\n",
              "      <td>28</td>\n",
              "      <td>Private</td>\n",
              "      <td>338409</td>\n",
              "      <td>Bachelors</td>\n",
              "      <td>13</td>\n",
              "      <td>Married-civ-spouse</td>\n",
              "      <td>Prof-specialty</td>\n",
              "      <td>Wife</td>\n",
              "      <td>Black</td>\n",
              "      <td>Female</td>\n",
              "      <td>0</td>\n",
              "      <td>0</td>\n",
              "      <td>40</td>\n",
              "      <td>Cuba</td>\n",
              "      <td>&lt;=50K</td>\n",
              "    </tr>\n",
              "  </tbody>\n",
              "</table>\n",
              "</div>\n",
              "    <div class=\"colab-df-buttons\">\n",
              "\n",
              "  <div class=\"colab-df-container\">\n",
              "    <button class=\"colab-df-convert\" onclick=\"convertToInteractive('df-2f148b49-e0bf-4066-b0b0-4b473bc53bdd')\"\n",
              "            title=\"Convert this dataframe to an interactive table.\"\n",
              "            style=\"display:none;\">\n",
              "\n",
              "  <svg xmlns=\"http://www.w3.org/2000/svg\" height=\"24px\" viewBox=\"0 -960 960 960\">\n",
              "    <path d=\"M120-120v-720h720v720H120Zm60-500h600v-160H180v160Zm220 220h160v-160H400v160Zm0 220h160v-160H400v160ZM180-400h160v-160H180v160Zm440 0h160v-160H620v160ZM180-180h160v-160H180v160Zm440 0h160v-160H620v160Z\"/>\n",
              "  </svg>\n",
              "    </button>\n",
              "\n",
              "  <style>\n",
              "    .colab-df-container {\n",
              "      display:flex;\n",
              "      gap: 12px;\n",
              "    }\n",
              "\n",
              "    .colab-df-convert {\n",
              "      background-color: #E8F0FE;\n",
              "      border: none;\n",
              "      border-radius: 50%;\n",
              "      cursor: pointer;\n",
              "      display: none;\n",
              "      fill: #1967D2;\n",
              "      height: 32px;\n",
              "      padding: 0 0 0 0;\n",
              "      width: 32px;\n",
              "    }\n",
              "\n",
              "    .colab-df-convert:hover {\n",
              "      background-color: #E2EBFA;\n",
              "      box-shadow: 0px 1px 2px rgba(60, 64, 67, 0.3), 0px 1px 3px 1px rgba(60, 64, 67, 0.15);\n",
              "      fill: #174EA6;\n",
              "    }\n",
              "\n",
              "    .colab-df-buttons div {\n",
              "      margin-bottom: 4px;\n",
              "    }\n",
              "\n",
              "    [theme=dark] .colab-df-convert {\n",
              "      background-color: #3B4455;\n",
              "      fill: #D2E3FC;\n",
              "    }\n",
              "\n",
              "    [theme=dark] .colab-df-convert:hover {\n",
              "      background-color: #434B5C;\n",
              "      box-shadow: 0px 1px 3px 1px rgba(0, 0, 0, 0.15);\n",
              "      filter: drop-shadow(0px 1px 2px rgba(0, 0, 0, 0.3));\n",
              "      fill: #FFFFFF;\n",
              "    }\n",
              "  </style>\n",
              "\n",
              "    <script>\n",
              "      const buttonEl =\n",
              "        document.querySelector('#df-2f148b49-e0bf-4066-b0b0-4b473bc53bdd button.colab-df-convert');\n",
              "      buttonEl.style.display =\n",
              "        google.colab.kernel.accessAllowed ? 'block' : 'none';\n",
              "\n",
              "      async function convertToInteractive(key) {\n",
              "        const element = document.querySelector('#df-2f148b49-e0bf-4066-b0b0-4b473bc53bdd');\n",
              "        const dataTable =\n",
              "          await google.colab.kernel.invokeFunction('convertToInteractive',\n",
              "                                                    [key], {});\n",
              "        if (!dataTable) return;\n",
              "\n",
              "        const docLinkHtml = 'Like what you see? Visit the ' +\n",
              "          '<a target=\"_blank\" href=https://colab.research.google.com/notebooks/data_table.ipynb>data table notebook</a>'\n",
              "          + ' to learn more about interactive tables.';\n",
              "        element.innerHTML = '';\n",
              "        dataTable['output_type'] = 'display_data';\n",
              "        await google.colab.output.renderOutput(dataTable, element);\n",
              "        const docLink = document.createElement('div');\n",
              "        docLink.innerHTML = docLinkHtml;\n",
              "        element.appendChild(docLink);\n",
              "      }\n",
              "    </script>\n",
              "  </div>\n",
              "\n",
              "\n",
              "<div id=\"df-bc3a89e6-b645-49b3-829b-c2cdb52be4f6\">\n",
              "  <button class=\"colab-df-quickchart\" onclick=\"quickchart('df-bc3a89e6-b645-49b3-829b-c2cdb52be4f6')\"\n",
              "            title=\"Suggest charts\"\n",
              "            style=\"display:none;\">\n",
              "\n",
              "<svg xmlns=\"http://www.w3.org/2000/svg\" height=\"24px\"viewBox=\"0 0 24 24\"\n",
              "     width=\"24px\">\n",
              "    <g>\n",
              "        <path d=\"M19 3H5c-1.1 0-2 .9-2 2v14c0 1.1.9 2 2 2h14c1.1 0 2-.9 2-2V5c0-1.1-.9-2-2-2zM9 17H7v-7h2v7zm4 0h-2V7h2v10zm4 0h-2v-4h2v4z\"/>\n",
              "    </g>\n",
              "</svg>\n",
              "  </button>\n",
              "\n",
              "<style>\n",
              "  .colab-df-quickchart {\n",
              "      --bg-color: #E8F0FE;\n",
              "      --fill-color: #1967D2;\n",
              "      --hover-bg-color: #E2EBFA;\n",
              "      --hover-fill-color: #174EA6;\n",
              "      --disabled-fill-color: #AAA;\n",
              "      --disabled-bg-color: #DDD;\n",
              "  }\n",
              "\n",
              "  [theme=dark] .colab-df-quickchart {\n",
              "      --bg-color: #3B4455;\n",
              "      --fill-color: #D2E3FC;\n",
              "      --hover-bg-color: #434B5C;\n",
              "      --hover-fill-color: #FFFFFF;\n",
              "      --disabled-bg-color: #3B4455;\n",
              "      --disabled-fill-color: #666;\n",
              "  }\n",
              "\n",
              "  .colab-df-quickchart {\n",
              "    background-color: var(--bg-color);\n",
              "    border: none;\n",
              "    border-radius: 50%;\n",
              "    cursor: pointer;\n",
              "    display: none;\n",
              "    fill: var(--fill-color);\n",
              "    height: 32px;\n",
              "    padding: 0;\n",
              "    width: 32px;\n",
              "  }\n",
              "\n",
              "  .colab-df-quickchart:hover {\n",
              "    background-color: var(--hover-bg-color);\n",
              "    box-shadow: 0 1px 2px rgba(60, 64, 67, 0.3), 0 1px 3px 1px rgba(60, 64, 67, 0.15);\n",
              "    fill: var(--button-hover-fill-color);\n",
              "  }\n",
              "\n",
              "  .colab-df-quickchart-complete:disabled,\n",
              "  .colab-df-quickchart-complete:disabled:hover {\n",
              "    background-color: var(--disabled-bg-color);\n",
              "    fill: var(--disabled-fill-color);\n",
              "    box-shadow: none;\n",
              "  }\n",
              "\n",
              "  .colab-df-spinner {\n",
              "    border: 2px solid var(--fill-color);\n",
              "    border-color: transparent;\n",
              "    border-bottom-color: var(--fill-color);\n",
              "    animation:\n",
              "      spin 1s steps(1) infinite;\n",
              "  }\n",
              "\n",
              "  @keyframes spin {\n",
              "    0% {\n",
              "      border-color: transparent;\n",
              "      border-bottom-color: var(--fill-color);\n",
              "      border-left-color: var(--fill-color);\n",
              "    }\n",
              "    20% {\n",
              "      border-color: transparent;\n",
              "      border-left-color: var(--fill-color);\n",
              "      border-top-color: var(--fill-color);\n",
              "    }\n",
              "    30% {\n",
              "      border-color: transparent;\n",
              "      border-left-color: var(--fill-color);\n",
              "      border-top-color: var(--fill-color);\n",
              "      border-right-color: var(--fill-color);\n",
              "    }\n",
              "    40% {\n",
              "      border-color: transparent;\n",
              "      border-right-color: var(--fill-color);\n",
              "      border-top-color: var(--fill-color);\n",
              "    }\n",
              "    60% {\n",
              "      border-color: transparent;\n",
              "      border-right-color: var(--fill-color);\n",
              "    }\n",
              "    80% {\n",
              "      border-color: transparent;\n",
              "      border-right-color: var(--fill-color);\n",
              "      border-bottom-color: var(--fill-color);\n",
              "    }\n",
              "    90% {\n",
              "      border-color: transparent;\n",
              "      border-bottom-color: var(--fill-color);\n",
              "    }\n",
              "  }\n",
              "</style>\n",
              "\n",
              "  <script>\n",
              "    async function quickchart(key) {\n",
              "      const quickchartButtonEl =\n",
              "        document.querySelector('#' + key + ' button');\n",
              "      quickchartButtonEl.disabled = true;  // To prevent multiple clicks.\n",
              "      quickchartButtonEl.classList.add('colab-df-spinner');\n",
              "      try {\n",
              "        const charts = await google.colab.kernel.invokeFunction(\n",
              "            'suggestCharts', [key], {});\n",
              "      } catch (error) {\n",
              "        console.error('Error during call to suggestCharts:', error);\n",
              "      }\n",
              "      quickchartButtonEl.classList.remove('colab-df-spinner');\n",
              "      quickchartButtonEl.classList.add('colab-df-quickchart-complete');\n",
              "    }\n",
              "    (() => {\n",
              "      let quickchartButtonEl =\n",
              "        document.querySelector('#df-bc3a89e6-b645-49b3-829b-c2cdb52be4f6 button');\n",
              "      quickchartButtonEl.style.display =\n",
              "        google.colab.kernel.accessAllowed ? 'block' : 'none';\n",
              "    })();\n",
              "  </script>\n",
              "</div>\n",
              "    </div>\n",
              "  </div>\n"
            ]
          },
          "metadata": {},
          "execution_count": 3
        }
      ]
    },
    {
      "cell_type": "markdown",
      "source": [
        "**#1 Cleaning and Preparing**"
      ],
      "metadata": {
        "id": "3V_iFQgRfyQW"
      }
    },
    {
      "cell_type": "code",
      "source": [
        "df[['age', 'fnlwgt', 'education-num', 'capital-gain', 'capital-loss', 'hours-per-week']] = df[['age', 'fnlwgt', 'education-num', 'capital-gain', 'capital-loss', 'hours-per-week']].apply(pd.to_numeric)"
      ],
      "metadata": {
        "id": "LLEr2TuVfkpR"
      },
      "execution_count": 4,
      "outputs": []
    },
    {
      "cell_type": "code",
      "source": [
        "newx = pd.DataFrame(df[\"occupation\"])\n",
        "newx[\"income\"] = y\n",
        "newx.head()\n",
        "\n",
        "new_greaterthan = (\n",
        "    pd.get_dummies(newx, columns=['occupation', 'income'])\n",
        "        .groupby('income_>50K', as_index=False)\n",
        "        .sum())\n",
        "\n",
        "new_df = (\n",
        "    pd.get_dummies(newx, columns=['occupation', 'income'])\n",
        "        .groupby('income_<=50K', as_index=False)\n",
        "        .sum())\n",
        "\n",
        "ratio = new_df.values[0]/new_df.values[1]\n",
        "new_df.loc[len(new_df.index)] = ratio\n",
        "\n",
        "df[\"occupation\"].replace(\"?\", \"Farming-fishing\", inplace = True)\n",
        "df[\"occupation\"].fillna(\"Farming-fishing\", inplace = True)"
      ],
      "metadata": {
        "colab": {
          "base_uri": "https://localhost:8080/"
        },
        "id": "UBI2htt9fnXb",
        "outputId": "bf0ed0fa-712d-4316-f18b-117ec86a2bb4"
      },
      "execution_count": 5,
      "outputs": [
        {
          "output_type": "stream",
          "name": "stderr",
          "text": [
            "<ipython-input-5-bb72974d9074>:15: RuntimeWarning: divide by zero encountered in divide\n",
            "  ratio = new_df.values[0]/new_df.values[1]\n"
          ]
        }
      ]
    },
    {
      "cell_type": "code",
      "source": [
        "df[\"workclass\"].unique()\n",
        "neww = pd.DataFrame(df[\"workclass\"])\n",
        "neww[\"income\"] = y\n",
        "\n",
        "new_work = (\n",
        "    pd.get_dummies(neww, columns=['workclass', 'income'])\n",
        "        .groupby('income_>50K', as_index=False)\n",
        "        .sum())\n",
        "workdf = (\n",
        "    pd.get_dummies(neww, columns=['workclass', 'income'])\n",
        "        .groupby('income_<=50K', as_index=False)\n",
        "        .sum())\n",
        "\n",
        "ratiow = workdf.values[0]/workdf.values[1]\n",
        "workdf.loc[len(workdf.index)] = ratiow\n",
        "\n",
        "df[\"workclass\"].replace(\"?\", \"Without-pay\", inplace = True)\n",
        "df[\"workclass\"].fillna(\"Without-pay\", inplace = True)"
      ],
      "metadata": {
        "colab": {
          "base_uri": "https://localhost:8080/"
        },
        "id": "hmtz64iAfnVc",
        "outputId": "8590351d-b825-41a1-f871-6333790728e7"
      },
      "execution_count": 6,
      "outputs": [
        {
          "output_type": "stream",
          "name": "stderr",
          "text": [
            "<ipython-input-6-0d7bf0b6b13f>:14: RuntimeWarning: divide by zero encountered in divide\n",
            "  ratiow = workdf.values[0]/workdf.values[1]\n"
          ]
        }
      ]
    },
    {
      "cell_type": "code",
      "source": [
        "df[\"native-country\"].unique()\n",
        "newn = pd.DataFrame(df[\"native-country\"])\n",
        "newn[\"income\"] = y\n",
        "\n",
        "new_nat = (\n",
        "    pd.get_dummies(newn, columns=['native-country', 'income'])\n",
        "        .groupby('income_>50K', as_index=False)\n",
        "        .sum())\n",
        "\n",
        "natdf = (\n",
        "    pd.get_dummies(newn, columns=['native-country', 'income'])\n",
        "        .groupby('income_<=50K', as_index=False)\n",
        "        .sum())\n",
        "\n",
        "ration = natdf.values[0]/natdf.values[1]\n",
        "natdf.loc[len(natdf.index)] = ration\n",
        "\n",
        "df[\"native-country\"].replace(\"?\", \"Cuba\", inplace = True)\n",
        "df[\"native-country\"].fillna(\"Cuba\", inplace = True)"
      ],
      "metadata": {
        "colab": {
          "base_uri": "https://localhost:8080/"
        },
        "id": "qgwmE30ifnTw",
        "outputId": "2f25ec3f-d80c-4a2e-d110-239a6624a7e0"
      },
      "execution_count": 7,
      "outputs": [
        {
          "output_type": "stream",
          "name": "stderr",
          "text": [
            "<ipython-input-7-5563abe76bdc>:15: RuntimeWarning: divide by zero encountered in divide\n",
            "  ration = natdf.values[0]/natdf.values[1]\n"
          ]
        }
      ]
    },
    {
      "cell_type": "code",
      "source": [
        "categorical_columns = ['workclass', 'education', 'sex', 'marital-status', 'relationship','race','native-country', 'occupation']"
      ],
      "metadata": {
        "id": "6y3KiUEXfnRt"
      },
      "execution_count": 8,
      "outputs": []
    },
    {
      "cell_type": "code",
      "source": [
        "one_hot_encoded = pd.get_dummies(df, columns= categorical_columns)\n",
        "\n",
        "df = pd.concat([df, one_hot_encoded], axis=1)\n",
        "\n",
        "lstcol = df.columns\n",
        "\n",
        "lstcol = set(lstcol)\n",
        "\n",
        "df = df.T.drop_duplicates().T"
      ],
      "metadata": {
        "id": "45wYedhSfnP1"
      },
      "execution_count": 9,
      "outputs": []
    },
    {
      "cell_type": "code",
      "source": [
        "df[\"income\"].replace(\"<=50K\", 0, inplace = True)\n",
        "df[\"income\"].replace(\">50K\", 1, inplace = True)\n",
        "df = df.drop(categorical_columns, axis = 1)"
      ],
      "metadata": {
        "id": "OauoO3p5fnN6"
      },
      "execution_count": 10,
      "outputs": []
    },
    {
      "cell_type": "code",
      "source": [
        "colnames = []\n",
        "for i in df.columns:\n",
        "  colnames.append(i)\n",
        "\n",
        "df[colnames] = df[colnames].apply(pd.to_numeric)"
      ],
      "metadata": {
        "id": "Wa2Wa6P9fnIT"
      },
      "execution_count": 11,
      "outputs": []
    },
    {
      "cell_type": "code",
      "source": [
        "X= df\n",
        "y= df['income']\n",
        "\n",
        "X_train, X_test, y_train, y_test = train_test_split(X, y, test_size=0.2, random_state=42)\n",
        "X_train, X_dev, y_train, y_dev = train_test_split(X_train, y_train, test_size=0.25, random_state=42)"
      ],
      "metadata": {
        "id": "K8gcmcUNfnEu"
      },
      "execution_count": 12,
      "outputs": []
    },
    {
      "cell_type": "code",
      "source": [
        "X_train.drop('income', axis=1, inplace = True)\n",
        "X_test.drop('income', axis=1, inplace = True)\n",
        "X_dev.drop('income', axis=1, inplace = True)"
      ],
      "metadata": {
        "id": "1kGAVB05fnCk"
      },
      "execution_count": 13,
      "outputs": []
    },
    {
      "cell_type": "markdown",
      "source": [
        "*We are working with X_train, X_test, X_dev and y_train, y_test, y_dev*"
      ],
      "metadata": {
        "id": "lIj1xL3Qg1IK"
      }
    },
    {
      "cell_type": "markdown",
      "source": [
        "**#2 Begin algorithm work with Classifiers, Ensemble Learning, and DNN**"
      ],
      "metadata": {
        "id": "7IATwr7ZhJKj"
      }
    },
    {
      "cell_type": "code",
      "source": [
        "#---Random Forest Classifier\n",
        "\n",
        "rf_clf = RandomForestClassifier(max_depth = 20,\n",
        "                                          min_samples_leaf=20,\n",
        "                                          random_state=42,\n",
        "                                n_estimators = 1000, max_samples = 0.5, max_features=0.7,\n",
        "                                n_jobs=-1)\n",
        "\n",
        "rf_clf.fit(X_train, y_train)\n",
        "\n",
        "y_pred = rf_clf.predict(X_test)\n",
        "\n",
        "#---Return Accuracy, Precision, Recall, and F1\n",
        "\n",
        "accuracy = accuracy_score(y_test, y_pred)\n",
        "precision = precision_score(y_test, y_pred)\n",
        "recall = recall_score(y_test, y_pred)\n",
        "f1 = f1_score(y_test, y_pred)\n",
        "cm = confusion_matrix(y_test, y_pred)\n",
        "\n",
        "print(f\"Accuracy: {accuracy}\")\n",
        "print(f\"Precision: {precision}\")\n",
        "print(f\"Recall: {recall}\")\n",
        "print(f\"F1 Score: {f1}\")\n",
        "print(cm)"
      ],
      "metadata": {
        "id": "QATOyHaDfm_M",
        "colab": {
          "base_uri": "https://localhost:8080/"
        },
        "outputId": "f590f6e8-b5c3-4b2f-f076-c29f5fecaa5c"
      },
      "execution_count": 14,
      "outputs": [
        {
          "output_type": "stream",
          "name": "stdout",
          "text": [
            "Accuracy: 0.8607841130105436\n",
            "Precision: 0.7834757834757835\n",
            "Recall: 0.583864118895966\n",
            "F1 Score: 0.6690997566909975\n",
            "[[7034  380]\n",
            " [ 980 1375]]\n"
          ]
        }
      ]
    },
    {
      "cell_type": "code",
      "source": [
        "#--- The Accuracy score is 86.07%. Precision is 78.34%. Recall is 58.38%. F1 is 66.9% From the UCI Repository,\n",
        "# Random Forest had an accuracy of 85.216% It is good to see that we are on track, if not a little better than what\n",
        "# others have gotten. UCI Rep. scored 80.246% on Precision, so my test results were a little lower than expected,\n",
        "# but that is okay because we are well within the min and max that was tested on the UCI website."
      ],
      "metadata": {
        "id": "3cIF57H9rdn7"
      },
      "execution_count": 32,
      "outputs": []
    },
    {
      "cell_type": "code",
      "source": [
        "param_grid = {\n",
        "    'n_estimators': [500, 1000],\n",
        "    'max_depth': [10, 20],\n",
        "    'min_samples_split': [10, 50],\n",
        "    'min_samples_leaf': [10, 20],\n",
        "    'max_samples' : [0.7],\n",
        "    'max_features': [0.7],\n",
        "}\n",
        "\n",
        "rf_clf = RandomForestClassifier(random_state=42,\n",
        "                                    n_jobs=-1)\n",
        "\n",
        "\n",
        "grid_search = GridSearchCV(estimator=rf_clf, param_grid=param_grid, scoring='neg_root_mean_squared_error', cv=3, verbose=1)\n",
        "grid_search.fit(X_train, y_train)\n",
        "\n",
        "\n",
        "best_param = grid_search.best_params_\n",
        "best_model = grid_search.best_estimator_\n",
        "\n",
        "# Make predictions on the testing data\n",
        "test_predictions = best_model.predict(X_test)\n",
        "train_predictions = best_model.predict(X_train)\n",
        "\n",
        "\n",
        "test_rmse = mean_squared_error(y_test, test_predictions, squared=False)\n",
        "train_rmse = mean_squared_error(y_train, train_predictions, squared=False)\n",
        "\n",
        "print(X_train.shape)\n",
        "print(\"RandomForestRegressor: \")\n",
        "print(best_param)\n",
        "print(\"train, test RMSEs: \", train_rmse, test_rmse)\n",
        "print(\"train, test error rates:\", train_rmse / np.mean(y_train),\n",
        "                                 test_rmse / np.mean(y_test))"
      ],
      "metadata": {
        "id": "AOGXr2dQfm7L",
        "colab": {
          "base_uri": "https://localhost:8080/"
        },
        "outputId": "7cf57706-2e54-4473-af52-a4ba70267e49"
      },
      "execution_count": 15,
      "outputs": [
        {
          "output_type": "stream",
          "name": "stdout",
          "text": [
            "Fitting 3 folds for each of 16 candidates, totalling 48 fits\n",
            "(29304, 105)\n",
            "RandomForestRegressor: \n",
            "{'max_depth': 20, 'max_features': 0.7, 'max_samples': 0.7, 'min_samples_leaf': 10, 'min_samples_split': 50, 'n_estimators': 1000}\n",
            "train, test RMSEs:  0.34638651818975286 0.3688395093846091\n",
            "train, test error rates: 1.4579877232163916 1.530018330011994\n"
          ]
        }
      ]
    },
    {
      "cell_type": "code",
      "source": [
        "# 34min runtime; train, test RMSEs :: 0.3463, 0.3688\n",
        "# train, test error rates :: 1.457, 1.53"
      ],
      "metadata": {
        "id": "Ez-vT-mkfm40"
      },
      "execution_count": 16,
      "outputs": []
    },
    {
      "cell_type": "code",
      "source": [
        "##XGboost\n",
        "\n",
        "xgb_model = xgb.XGBClassifier(objective=\"binary:logistic\", random_state=42)\n",
        "\n",
        "xgb_model.fit(X_train, y_train)\n",
        "\n",
        "y_pred = xgb_model.predict(X_test)\n",
        "\n",
        "\n",
        "\n",
        "#---Return Accuracy, Precision, Recall, and F1\n",
        "\n",
        "accuracy = accuracy_score(y_test, y_pred)\n",
        "precision = precision_score(y_test, y_pred)\n",
        "recall = recall_score(y_test, y_pred)\n",
        "f1 = f1_score(y_test, y_pred)\n",
        "cm = confusion_matrix(y_test, y_pred)\n",
        "\n",
        "print(f\"Accuracy: {accuracy}\")\n",
        "print(f\"Precision: {precision}\")\n",
        "print(f\"Recall: {recall}\")\n",
        "print(f\"F1 Score: {f1}\")\n",
        "print(cm)"
      ],
      "metadata": {
        "id": "mAbEmNPFhT7H",
        "colab": {
          "base_uri": "https://localhost:8080/"
        },
        "outputId": "bbd06dc2-b688-4664-c84e-8536cbbed947"
      },
      "execution_count": 17,
      "outputs": [
        {
          "output_type": "stream",
          "name": "stdout",
          "text": [
            "Accuracy: 0.8716347630258983\n",
            "Precision: 0.7815856777493606\n",
            "Recall: 0.648832271762208\n",
            "F1 Score: 0.7090487238979117\n",
            "[[6987  427]\n",
            " [ 827 1528]]\n"
          ]
        }
      ]
    },
    {
      "cell_type": "code",
      "source": [
        "# Our Accuracy is 87.16%, Precision is 78.15%, Recall is 64.88% and F1 is 70.9%\n",
        "# UCI got 87.224% accuracy, which is extremely close to what I got. Their precision score was 83.383%,\n",
        "# which is substansially higher but not too high for any cause to worry about my numbers. I am still in\n",
        "# a good range of percentage."
      ],
      "metadata": {
        "id": "1NFTbUPJ-Tdh"
      },
      "execution_count": 30,
      "outputs": []
    },
    {
      "cell_type": "code",
      "source": [
        "param_grid = {\n",
        "    'n_estimators': [500, 750, 1000],\n",
        "    'max_depth': [10, 15, 20],\n",
        "}\n",
        "\n",
        "# Create the GridSearchCV object\n",
        "grid_search = GridSearchCV(xgb_model, param_grid, cv=5, scoring='accuracy')\n",
        "\n",
        "# Fit the GridSearchCV object to the training data\n",
        "grid_search.fit(X_train, y_train)\n",
        "\n",
        "# Print the best set of hyperparameters and the corresponding score\n",
        "print(\"Best set of hyperparameters: \", grid_search.best_params_)\n",
        "print(\"Best score: \", grid_search.best_score_)"
      ],
      "metadata": {
        "id": "xkyq4MEvhT5M",
        "colab": {
          "base_uri": "https://localhost:8080/"
        },
        "outputId": "8c102c15-c2c3-4403-fcf4-dae73cbff570"
      },
      "execution_count": 18,
      "outputs": [
        {
          "output_type": "stream",
          "name": "stdout",
          "text": [
            "Best set of hyperparameters:  {'max_depth': 10, 'n_estimators': 500}\n",
            "Best score:  0.8565042308357494\n"
          ]
        }
      ]
    },
    {
      "cell_type": "code",
      "source": [
        "# Runtime 8min; Best score :: 0.8565"
      ],
      "metadata": {
        "id": "Nq1Smv8jhT1v"
      },
      "execution_count": null,
      "outputs": []
    },
    {
      "cell_type": "code",
      "source": [
        "#-- Deep Neural Network\n",
        "\n",
        "tf.random.set_seed(42)\n",
        "\n",
        "model = Sequential([\n",
        "    Dense(10, activation='relu', input_shape=(X_train.shape[1],)),\n",
        "    Dense(8, activation='relu'),\n",
        "    Dense(1, activation='sigmoid')\n",
        "\n",
        "])\n",
        "\n",
        "# Compile the model\n",
        "model.compile(optimizer='adam', loss='binary_crossentropy', metrics=['accuracy'])\n",
        "\n",
        "# Train the model\n",
        "model.fit(X_train, y_train, epochs=50, batch_size=32, verbose=1, validation_split=0.1)\n",
        "\n",
        "# Evaluate the model\n",
        "loss, accuracy = model.evaluate(X_test, y_test)\n",
        "\n",
        "ytest_pred = model.predict(X_test) > 0.5\n",
        "\n",
        "ytest_pred_proba = model.predict(X_test)\n",
        "\n",
        "\n",
        "accuracy = accuracy_score(y_test, ytest_pred)\n",
        "precision = precision_score(y_test, ytest_pred)\n",
        "recall = recall_score(y_test, ytest_pred)\n",
        "f1 = f1_score(y_test, ytest_pred)\n",
        "cm = confusion_matrix(y_test, ytest_pred)\n",
        "\n",
        "print(f\"Accuracy: {accuracy}\")\n",
        "print(f\"Precision: {precision}\")\n",
        "print(f\"Recall: {recall}\")\n",
        "print(f\"F1 Score: {f1}\")\n",
        "print(cm)"
      ],
      "metadata": {
        "colab": {
          "base_uri": "https://localhost:8080/"
        },
        "id": "VWIpzxonhTz4",
        "outputId": "6a1c97d6-b8d4-49bf-a01e-61a8091c6984"
      },
      "execution_count": 19,
      "outputs": [
        {
          "output_type": "stream",
          "name": "stdout",
          "text": [
            "Epoch 1/50\n",
            "825/825 [==============================] - 8s 8ms/step - loss: 18.3109 - accuracy: 0.6750 - val_loss: 51.7333 - val_accuracy: 0.7707\n",
            "Epoch 2/50\n",
            "825/825 [==============================] - 3s 4ms/step - loss: 16.6793 - accuracy: 0.6807 - val_loss: 49.6120 - val_accuracy: 0.7748\n",
            "Epoch 3/50\n",
            "825/825 [==============================] - 2s 2ms/step - loss: 15.0795 - accuracy: 0.6852 - val_loss: 10.3916 - val_accuracy: 0.7728\n",
            "Epoch 4/50\n",
            "825/825 [==============================] - 2s 2ms/step - loss: 11.7100 - accuracy: 0.6949 - val_loss: 1.7621 - val_accuracy: 0.7864\n",
            "Epoch 5/50\n",
            "825/825 [==============================] - 2s 2ms/step - loss: 12.1821 - accuracy: 0.6900 - val_loss: 9.8520 - val_accuracy: 0.7926\n",
            "Epoch 6/50\n",
            "825/825 [==============================] - 2s 2ms/step - loss: 11.6053 - accuracy: 0.6996 - val_loss: 5.3343 - val_accuracy: 0.7987\n",
            "Epoch 7/50\n",
            "825/825 [==============================] - 3s 3ms/step - loss: 10.8429 - accuracy: 0.7006 - val_loss: 7.4249 - val_accuracy: 0.7881\n",
            "Epoch 8/50\n",
            "825/825 [==============================] - 3s 3ms/step - loss: 10.5448 - accuracy: 0.7042 - val_loss: 10.9175 - val_accuracy: 0.7718\n",
            "Epoch 9/50\n",
            "825/825 [==============================] - 2s 2ms/step - loss: 10.7801 - accuracy: 0.7063 - val_loss: 7.1848 - val_accuracy: 0.7977\n",
            "Epoch 10/50\n",
            "825/825 [==============================] - 2s 2ms/step - loss: 8.5321 - accuracy: 0.7082 - val_loss: 11.0997 - val_accuracy: 0.7939\n",
            "Epoch 11/50\n",
            "825/825 [==============================] - 2s 2ms/step - loss: 8.9240 - accuracy: 0.7122 - val_loss: 11.0793 - val_accuracy: 0.7977\n",
            "Epoch 12/50\n",
            "825/825 [==============================] - 2s 2ms/step - loss: 7.9619 - accuracy: 0.7169 - val_loss: 1.5613 - val_accuracy: 0.8141\n",
            "Epoch 13/50\n",
            "825/825 [==============================] - 2s 3ms/step - loss: 5.1202 - accuracy: 0.7304 - val_loss: 3.7770 - val_accuracy: 0.4937\n",
            "Epoch 14/50\n",
            "825/825 [==============================] - 3s 3ms/step - loss: 5.6276 - accuracy: 0.7312 - val_loss: 4.4997 - val_accuracy: 0.7885\n",
            "Epoch 15/50\n",
            "825/825 [==============================] - 2s 2ms/step - loss: 6.0056 - accuracy: 0.7296 - val_loss: 4.9522 - val_accuracy: 0.4558\n",
            "Epoch 16/50\n",
            "825/825 [==============================] - 2s 2ms/step - loss: 5.3080 - accuracy: 0.7351 - val_loss: 5.2112 - val_accuracy: 0.7967\n",
            "Epoch 17/50\n",
            "825/825 [==============================] - 2s 2ms/step - loss: 5.2875 - accuracy: 0.7337 - val_loss: 5.1418 - val_accuracy: 0.7939\n",
            "Epoch 18/50\n",
            "825/825 [==============================] - 2s 2ms/step - loss: 4.7862 - accuracy: 0.7405 - val_loss: 0.8148 - val_accuracy: 0.8311\n",
            "Epoch 19/50\n",
            "825/825 [==============================] - 2s 2ms/step - loss: 4.1815 - accuracy: 0.7399 - val_loss: 5.4186 - val_accuracy: 0.7892\n",
            "Epoch 20/50\n",
            "825/825 [==============================] - 3s 3ms/step - loss: 3.7658 - accuracy: 0.7444 - val_loss: 5.3951 - val_accuracy: 0.7864\n",
            "Epoch 21/50\n",
            "825/825 [==============================] - 2s 3ms/step - loss: 3.8978 - accuracy: 0.7445 - val_loss: 3.6910 - val_accuracy: 0.7973\n",
            "Epoch 22/50\n",
            "825/825 [==============================] - 2s 2ms/step - loss: 5.0518 - accuracy: 0.7399 - val_loss: 5.1722 - val_accuracy: 0.7970\n",
            "Epoch 23/50\n",
            "825/825 [==============================] - 2s 2ms/step - loss: 3.3455 - accuracy: 0.7440 - val_loss: 15.5855 - val_accuracy: 0.7666\n",
            "Epoch 24/50\n",
            "825/825 [==============================] - 2s 2ms/step - loss: 3.3015 - accuracy: 0.7525 - val_loss: 2.5254 - val_accuracy: 0.8038\n",
            "Epoch 25/50\n",
            "825/825 [==============================] - 2s 2ms/step - loss: 2.5851 - accuracy: 0.7579 - val_loss: 1.9533 - val_accuracy: 0.8069\n",
            "Epoch 26/50\n",
            "825/825 [==============================] - 2s 3ms/step - loss: 2.4880 - accuracy: 0.7538 - val_loss: 1.2507 - val_accuracy: 0.8141\n",
            "Epoch 27/50\n",
            "825/825 [==============================] - 3s 3ms/step - loss: 2.4762 - accuracy: 0.7541 - val_loss: 4.6325 - val_accuracy: 0.3743\n",
            "Epoch 28/50\n",
            "825/825 [==============================] - 2s 2ms/step - loss: 1.4919 - accuracy: 0.7664 - val_loss: 0.5482 - val_accuracy: 0.8304\n",
            "Epoch 29/50\n",
            "825/825 [==============================] - 2s 2ms/step - loss: 1.2106 - accuracy: 0.7760 - val_loss: 0.7846 - val_accuracy: 0.8079\n",
            "Epoch 30/50\n",
            "825/825 [==============================] - 2s 2ms/step - loss: 1.0703 - accuracy: 0.7743 - val_loss: 2.1799 - val_accuracy: 0.7874\n",
            "Epoch 31/50\n",
            "825/825 [==============================] - 2s 3ms/step - loss: 0.5984 - accuracy: 0.7955 - val_loss: 0.5833 - val_accuracy: 0.7984\n",
            "Epoch 32/50\n",
            "825/825 [==============================] - 2s 3ms/step - loss: 0.5291 - accuracy: 0.7995 - val_loss: 0.4659 - val_accuracy: 0.8021\n",
            "Epoch 33/50\n",
            "825/825 [==============================] - 3s 3ms/step - loss: 0.4937 - accuracy: 0.7894 - val_loss: 0.5212 - val_accuracy: 0.7868\n",
            "Epoch 34/50\n",
            "825/825 [==============================] - 2s 2ms/step - loss: 0.5160 - accuracy: 0.7862 - val_loss: 0.5165 - val_accuracy: 0.7909\n",
            "Epoch 35/50\n",
            "825/825 [==============================] - 2s 2ms/step - loss: 0.5165 - accuracy: 0.7895 - val_loss: 0.6150 - val_accuracy: 0.7851\n",
            "Epoch 36/50\n",
            "825/825 [==============================] - 2s 3ms/step - loss: 0.5206 - accuracy: 0.7878 - val_loss: 0.5053 - val_accuracy: 0.7847\n",
            "Epoch 37/50\n",
            "825/825 [==============================] - 2s 3ms/step - loss: 0.5283 - accuracy: 0.7780 - val_loss: 0.4998 - val_accuracy: 0.7851\n",
            "Epoch 38/50\n",
            "825/825 [==============================] - 2s 3ms/step - loss: 0.5509 - accuracy: 0.7557 - val_loss: 0.5499 - val_accuracy: 0.7602\n",
            "Epoch 39/50\n",
            "825/825 [==============================] - 3s 4ms/step - loss: 0.5398 - accuracy: 0.7686 - val_loss: 0.5505 - val_accuracy: 0.7598\n",
            "Epoch 40/50\n",
            "825/825 [==============================] - 2s 2ms/step - loss: 0.5404 - accuracy: 0.7681 - val_loss: 0.5501 - val_accuracy: 0.7602\n",
            "Epoch 41/50\n",
            "825/825 [==============================] - 2s 2ms/step - loss: 0.5396 - accuracy: 0.7686 - val_loss: 0.5499 - val_accuracy: 0.7602\n",
            "Epoch 42/50\n",
            "825/825 [==============================] - 2s 2ms/step - loss: 0.5381 - accuracy: 0.7697 - val_loss: 0.5502 - val_accuracy: 0.7602\n",
            "Epoch 43/50\n",
            "825/825 [==============================] - 2s 2ms/step - loss: 0.5390 - accuracy: 0.7692 - val_loss: 0.5500 - val_accuracy: 0.7602\n",
            "Epoch 44/50\n",
            "825/825 [==============================] - 2s 3ms/step - loss: 0.5398 - accuracy: 0.7685 - val_loss: 0.5494 - val_accuracy: 0.7605\n",
            "Epoch 45/50\n",
            "825/825 [==============================] - 3s 4ms/step - loss: 0.5389 - accuracy: 0.7690 - val_loss: 0.5630 - val_accuracy: 0.7636\n",
            "Epoch 46/50\n",
            "825/825 [==============================] - 2s 3ms/step - loss: 0.5429 - accuracy: 0.7698 - val_loss: 0.5560 - val_accuracy: 0.7602\n",
            "Epoch 47/50\n",
            "825/825 [==============================] - 2s 3ms/step - loss: 0.5392 - accuracy: 0.7690 - val_loss: 0.5499 - val_accuracy: 0.7602\n",
            "Epoch 48/50\n",
            "825/825 [==============================] - 2s 2ms/step - loss: 0.5396 - accuracy: 0.7687 - val_loss: 0.5501 - val_accuracy: 0.7602\n",
            "Epoch 49/50\n",
            "825/825 [==============================] - 2s 2ms/step - loss: 0.5395 - accuracy: 0.7687 - val_loss: 0.5515 - val_accuracy: 0.7602\n",
            "Epoch 50/50\n",
            "825/825 [==============================] - 2s 2ms/step - loss: 0.5397 - accuracy: 0.7687 - val_loss: 0.5553 - val_accuracy: 0.7602\n",
            "306/306 [==============================] - 1s 2ms/step - loss: 0.5690 - accuracy: 0.7643\n",
            "306/306 [==============================] - 1s 2ms/step\n",
            "306/306 [==============================] - 0s 2ms/step\n",
            "Accuracy: 0.7642542737230014\n",
            "Precision: 0.9814814814814815\n",
            "Recall: 0.022505307855626325\n",
            "F1 Score: 0.0440016604400166\n",
            "[[7413    1]\n",
            " [2302   53]]\n"
          ]
        }
      ]
    },
    {
      "cell_type": "code",
      "source": [
        "# Accuracy is 76.42%, Precision is 98.14%, and UCI resulted with 78.38% Accuracy,\n",
        "# and 80% Precision. That is a large difference and I am curious as to what parameters I have\n",
        "# used compared to what they used. I am not concerned with my high precision because it is not\n",
        "# as high as 99% or 100% which would be cause for pause and rework."
      ],
      "metadata": {
        "id": "mSazXeqw4Kk6"
      },
      "execution_count": 31,
      "outputs": []
    },
    {
      "cell_type": "code",
      "source": [
        "model.summary()"
      ],
      "metadata": {
        "colab": {
          "base_uri": "https://localhost:8080/"
        },
        "id": "pC69cwGapaaO",
        "outputId": "fca37d8f-bbc0-49da-e585-bf43cb27f611"
      },
      "execution_count": 21,
      "outputs": [
        {
          "output_type": "stream",
          "name": "stdout",
          "text": [
            "Model: \"sequential\"\n",
            "_________________________________________________________________\n",
            " Layer (type)                Output Shape              Param #   \n",
            "=================================================================\n",
            " dense (Dense)               (None, 10)                1060      \n",
            "                                                                 \n",
            " dense_1 (Dense)             (None, 8)                 88        \n",
            "                                                                 \n",
            " dense_2 (Dense)             (None, 1)                 9         \n",
            "                                                                 \n",
            "=================================================================\n",
            "Total params: 1157 (4.52 KB)\n",
            "Trainable params: 1157 (4.52 KB)\n",
            "Non-trainable params: 0 (0.00 Byte)\n",
            "_________________________________________________________________\n"
          ]
        }
      ]
    },
    {
      "cell_type": "code",
      "source": [
        "def build_model(hp):\n",
        "  n_hidden = hp.Int(\"n_hidden\", min_value=2, max_value=5, default=2)\n",
        "  learning_rate = hp.Float(\"learning_rate\", min_value=1e-4, max_value=1e-2, step = 5,\n",
        "                                  sampling=\"log\")\n",
        "  optimizer = hp.Choice(\"optimizer\", values=[\"sgd\", \"adam\"])\n",
        "\n",
        "  if optimizer == \"sgd\":\n",
        "    optimizer = tf.keras.optimizers.SGD(learning_rate=learning_rate)\n",
        "  else:\n",
        "    optimizer = tf.keras.optimizers.Adam(learning_rate=learning_rate)\n",
        "\n",
        "  model = tf.keras.Sequential()\n",
        "  model.add(tf.keras.layers.Flatten())\n",
        "  for _ in range(n_hidden):\n",
        "    model.add(tf.keras.layers.Dense(units = hp.Int(\"n_neurons\", min_value=32, max_value=512, step = 2, sampling = \"log\"),\n",
        "                                    activation=hp.Choice(\"activation\", values = [\"relu\", \"tanh\", \"selu\"])))\n",
        "\n",
        "  model.add(tf.keras.layers.Dense(10, activation=\"softmax\"))\n",
        "  model.compile(loss=\"sparse_categorical_crossentropy\", optimizer=optimizer,\n",
        "                        metrics=[\"accuracy\"])\n",
        "  return model"
      ],
      "metadata": {
        "id": "SHxEyuyYhTxh"
      },
      "execution_count": 22,
      "outputs": []
    },
    {
      "cell_type": "code",
      "source": [
        "class MyClassificationHyperModel(kt.HyperModel):\n",
        "    def build(self, hp):\n",
        "        return build_model(hp)\n",
        "\n",
        "    def fit(self, hp, model, X, y, **kwargs):\n",
        "        if hp.Boolean(\"normalize\"):\n",
        "            norm_layer = tf.keras.layers.Normalization()\n",
        "            X = norm_layer(X)\n",
        "        return model.fit(X, y, **kwargs)\n",
        "\n",
        "\n",
        "batch_sizes = [32,64]\n",
        "\n",
        "for batch in batch_sizes:\n",
        "  random_search_tuner = kt.RandomSearch(build_model, objective = 'loss',\n",
        "                                        max_trials=3, overwrite=True)\n",
        "\n",
        "\n",
        "\n",
        "  random_search_tuner.search(X_train, y_train, epochs=5, batch_size = 64,\n",
        "                             validation_data=(X_test, y_test))\n",
        "\n",
        "  tmp_best_model = random_search_tuner.get_best_models(num_models=1)"
      ],
      "metadata": {
        "id": "NJADqkqYhTvC",
        "colab": {
          "base_uri": "https://localhost:8080/"
        },
        "outputId": "992eaf74-7f4b-474f-9354-4bb69a2df07f"
      },
      "execution_count": 23,
      "outputs": [
        {
          "output_type": "stream",
          "name": "stdout",
          "text": [
            "Trial 3 Complete [00h 00m 23s]\n",
            "loss: 0.5617823004722595\n",
            "\n",
            "Best loss So Far: 0.5617823004722595\n",
            "Total elapsed time: 00h 01m 28s\n"
          ]
        }
      ]
    },
    {
      "cell_type": "code",
      "source": [
        "# The best loss found was .5617"
      ],
      "metadata": {
        "id": "2pgVSqN9o4W_"
      },
      "execution_count": 24,
      "outputs": []
    },
    {
      "cell_type": "markdown",
      "source": [
        "**#3 Graph Analysis**"
      ],
      "metadata": {
        "id": "nzHze3vTo8UB"
      }
    },
    {
      "cell_type": "code",
      "source": [
        "history = model.fit(X_train, y_train, epochs=50, batch_size=32, verbose=1, validation_split=0.1)"
      ],
      "metadata": {
        "colab": {
          "base_uri": "https://localhost:8080/"
        },
        "id": "SosWmoc_o4U-",
        "outputId": "ff15cacb-7d86-44ed-cb11-f96d3adb35b7"
      },
      "execution_count": 25,
      "outputs": [
        {
          "output_type": "stream",
          "name": "stdout",
          "text": [
            "Epoch 1/50\n",
            "825/825 [==============================] - 4s 5ms/step - loss: 0.5401 - accuracy: 0.7683 - val_loss: 0.5513 - val_accuracy: 0.7602\n",
            "Epoch 2/50\n",
            "825/825 [==============================] - 7s 8ms/step - loss: 0.5374 - accuracy: 0.7704 - val_loss: 0.5614 - val_accuracy: 0.7622\n",
            "Epoch 3/50\n",
            "825/825 [==============================] - 3s 3ms/step - loss: 0.5392 - accuracy: 0.7708 - val_loss: 0.5546 - val_accuracy: 0.7602\n",
            "Epoch 4/50\n",
            "825/825 [==============================] - 2s 2ms/step - loss: 0.5398 - accuracy: 0.7685 - val_loss: 0.5499 - val_accuracy: 0.7602\n",
            "Epoch 5/50\n",
            "825/825 [==============================] - 2s 2ms/step - loss: 0.5396 - accuracy: 0.7687 - val_loss: 0.5502 - val_accuracy: 0.7602\n",
            "Epoch 6/50\n",
            "825/825 [==============================] - 2s 2ms/step - loss: 0.5397 - accuracy: 0.7687 - val_loss: 0.5500 - val_accuracy: 0.7602\n",
            "Epoch 7/50\n",
            "825/825 [==============================] - 3s 3ms/step - loss: 0.5392 - accuracy: 0.7700 - val_loss: 0.5505 - val_accuracy: 0.7615\n",
            "Epoch 8/50\n",
            "825/825 [==============================] - 3s 3ms/step - loss: 0.5416 - accuracy: 0.7704 - val_loss: 0.5640 - val_accuracy: 0.7622\n",
            "Epoch 9/50\n",
            "825/825 [==============================] - 2s 2ms/step - loss: 0.5380 - accuracy: 0.7709 - val_loss: 0.5542 - val_accuracy: 0.7602\n",
            "Epoch 10/50\n",
            "825/825 [==============================] - 2s 2ms/step - loss: 0.5384 - accuracy: 0.7699 - val_loss: 0.5502 - val_accuracy: 0.7602\n",
            "Epoch 11/50\n",
            "825/825 [==============================] - 2s 2ms/step - loss: 0.5391 - accuracy: 0.7690 - val_loss: 0.5495 - val_accuracy: 0.7605\n",
            "Epoch 12/50\n",
            "825/825 [==============================] - 2s 2ms/step - loss: 0.5391 - accuracy: 0.7690 - val_loss: 0.5498 - val_accuracy: 0.7602\n",
            "Epoch 13/50\n",
            "825/825 [==============================] - 2s 3ms/step - loss: 0.5390 - accuracy: 0.7690 - val_loss: 0.5497 - val_accuracy: 0.7602\n",
            "Epoch 14/50\n",
            "825/825 [==============================] - 3s 3ms/step - loss: 0.5390 - accuracy: 0.7690 - val_loss: 0.5504 - val_accuracy: 0.7602\n",
            "Epoch 15/50\n",
            "825/825 [==============================] - 2s 2ms/step - loss: 0.5395 - accuracy: 0.7698 - val_loss: 0.5507 - val_accuracy: 0.7622\n",
            "Epoch 16/50\n",
            "825/825 [==============================] - 2s 2ms/step - loss: 0.5588 - accuracy: 0.7692 - val_loss: 0.5497 - val_accuracy: 0.7605\n",
            "Epoch 17/50\n",
            "825/825 [==============================] - 2s 2ms/step - loss: 0.5391 - accuracy: 0.7690 - val_loss: 0.5497 - val_accuracy: 0.7605\n",
            "Epoch 18/50\n",
            "825/825 [==============================] - 3s 3ms/step - loss: 0.5390 - accuracy: 0.7690 - val_loss: 0.5498 - val_accuracy: 0.7605\n",
            "Epoch 19/50\n",
            "825/825 [==============================] - 2s 3ms/step - loss: 0.5391 - accuracy: 0.7690 - val_loss: 0.5495 - val_accuracy: 0.7605\n",
            "Epoch 20/50\n",
            "825/825 [==============================] - 3s 4ms/step - loss: 0.5390 - accuracy: 0.7690 - val_loss: 0.5495 - val_accuracy: 0.7605\n",
            "Epoch 21/50\n",
            "825/825 [==============================] - 2s 2ms/step - loss: 0.5391 - accuracy: 0.7690 - val_loss: 0.5496 - val_accuracy: 0.7605\n",
            "Epoch 22/50\n",
            "825/825 [==============================] - 2s 2ms/step - loss: 0.5391 - accuracy: 0.7690 - val_loss: 0.5495 - val_accuracy: 0.7605\n",
            "Epoch 23/50\n",
            "825/825 [==============================] - 3s 3ms/step - loss: 0.5391 - accuracy: 0.7690 - val_loss: 0.5497 - val_accuracy: 0.7602\n",
            "Epoch 24/50\n",
            "825/825 [==============================] - 2s 2ms/step - loss: 0.5390 - accuracy: 0.7690 - val_loss: 0.5497 - val_accuracy: 0.7602\n",
            "Epoch 25/50\n",
            "825/825 [==============================] - 2s 3ms/step - loss: 0.5390 - accuracy: 0.7690 - val_loss: 0.5505 - val_accuracy: 0.7602\n",
            "Epoch 26/50\n",
            "825/825 [==============================] - 3s 4ms/step - loss: 0.5391 - accuracy: 0.7690 - val_loss: 0.5503 - val_accuracy: 0.7602\n",
            "Epoch 27/50\n",
            "825/825 [==============================] - 2s 2ms/step - loss: 0.5375 - accuracy: 0.7701 - val_loss: 0.5715 - val_accuracy: 0.7632\n",
            "Epoch 28/50\n",
            "825/825 [==============================] - 2s 2ms/step - loss: 0.5396 - accuracy: 0.7697 - val_loss: 0.5512 - val_accuracy: 0.7602\n",
            "Epoch 29/50\n",
            "825/825 [==============================] - 2s 2ms/step - loss: 0.5400 - accuracy: 0.7692 - val_loss: 0.5494 - val_accuracy: 0.7605\n",
            "Epoch 30/50\n",
            "825/825 [==============================] - 2s 2ms/step - loss: 0.5391 - accuracy: 0.7690 - val_loss: 0.5513 - val_accuracy: 0.7605\n",
            "Epoch 31/50\n",
            "825/825 [==============================] - 2s 2ms/step - loss: 0.5392 - accuracy: 0.7690 - val_loss: 0.5494 - val_accuracy: 0.7605\n",
            "Epoch 32/50\n",
            "825/825 [==============================] - 3s 4ms/step - loss: 0.5391 - accuracy: 0.7690 - val_loss: 0.5503 - val_accuracy: 0.7605\n",
            "Epoch 33/50\n",
            "825/825 [==============================] - 2s 3ms/step - loss: 0.5391 - accuracy: 0.7690 - val_loss: 0.5497 - val_accuracy: 0.7605\n",
            "Epoch 34/50\n",
            "825/825 [==============================] - 2s 2ms/step - loss: 0.5393 - accuracy: 0.7690 - val_loss: 0.5497 - val_accuracy: 0.7605\n",
            "Epoch 35/50\n",
            "825/825 [==============================] - 2s 2ms/step - loss: 0.5392 - accuracy: 0.7690 - val_loss: 0.5494 - val_accuracy: 0.7605\n",
            "Epoch 36/50\n",
            "825/825 [==============================] - 2s 2ms/step - loss: 0.5391 - accuracy: 0.7690 - val_loss: 0.5497 - val_accuracy: 0.7605\n",
            "Epoch 37/50\n",
            "825/825 [==============================] - 2s 2ms/step - loss: 0.5391 - accuracy: 0.7690 - val_loss: 0.5495 - val_accuracy: 0.7605\n",
            "Epoch 38/50\n",
            "825/825 [==============================] - 3s 3ms/step - loss: 0.5391 - accuracy: 0.7690 - val_loss: 0.5497 - val_accuracy: 0.7605\n",
            "Epoch 39/50\n",
            "825/825 [==============================] - 3s 3ms/step - loss: 0.5392 - accuracy: 0.7690 - val_loss: 0.5497 - val_accuracy: 0.7605\n",
            "Epoch 40/50\n",
            "825/825 [==============================] - 2s 3ms/step - loss: 0.5392 - accuracy: 0.7690 - val_loss: 0.5496 - val_accuracy: 0.7605\n",
            "Epoch 41/50\n",
            "825/825 [==============================] - 2s 2ms/step - loss: 0.5391 - accuracy: 0.7690 - val_loss: 0.5494 - val_accuracy: 0.7605\n",
            "Epoch 42/50\n",
            "825/825 [==============================] - 2s 2ms/step - loss: 0.5392 - accuracy: 0.7690 - val_loss: 0.5494 - val_accuracy: 0.7605\n",
            "Epoch 43/50\n",
            "825/825 [==============================] - 2s 2ms/step - loss: 0.5392 - accuracy: 0.7690 - val_loss: 0.5495 - val_accuracy: 0.7605\n",
            "Epoch 44/50\n",
            "825/825 [==============================] - 2s 3ms/step - loss: 0.5391 - accuracy: 0.7690 - val_loss: 0.5494 - val_accuracy: 0.7605\n",
            "Epoch 45/50\n",
            "825/825 [==============================] - 3s 3ms/step - loss: 0.5391 - accuracy: 0.7690 - val_loss: 0.5498 - val_accuracy: 0.7605\n",
            "Epoch 46/50\n",
            "825/825 [==============================] - 2s 2ms/step - loss: 0.5533 - accuracy: 0.7694 - val_loss: 0.5501 - val_accuracy: 0.7602\n",
            "Epoch 47/50\n",
            "825/825 [==============================] - 2s 2ms/step - loss: 0.5395 - accuracy: 0.7687 - val_loss: 0.5495 - val_accuracy: 0.7605\n",
            "Epoch 48/50\n",
            "825/825 [==============================] - 2s 2ms/step - loss: 0.5395 - accuracy: 0.7687 - val_loss: 0.5496 - val_accuracy: 0.7605\n",
            "Epoch 49/50\n",
            "825/825 [==============================] - 3s 3ms/step - loss: 0.5395 - accuracy: 0.7687 - val_loss: 0.5515 - val_accuracy: 0.7605\n",
            "Epoch 50/50\n",
            "825/825 [==============================] - 2s 3ms/step - loss: 0.5394 - accuracy: 0.7687 - val_loss: 0.5497 - val_accuracy: 0.7605\n"
          ]
        }
      ]
    },
    {
      "cell_type": "code",
      "source": [
        "print(history.history.keys())\n",
        "\n",
        "plt.plot(history.history['accuracy'])\n",
        "plt.plot(history.history['val_accuracy'])\n",
        "plt.title('model accuracy')\n",
        "plt.ylabel('accuracy')\n",
        "plt.xlabel('epoch')\n",
        "plt.legend(['train', 'test'], loc='upper left')\n",
        "plt.show()\n",
        "# summarize history for loss\n",
        "plt.plot(history.history['loss'])\n",
        "plt.plot(history.history['val_loss'])\n",
        "plt.title('model loss')\n",
        "plt.ylabel('loss')\n",
        "plt.xlabel('epoch')\n",
        "plt.legend(['train', 'test'], loc='upper left')\n",
        "plt.show()"
      ],
      "metadata": {
        "colab": {
          "base_uri": "https://localhost:8080/",
          "height": 944
        },
        "id": "zOZHXn8Do4Su",
        "outputId": "98a189b0-b08f-4493-9ac5-f56a73673e76"
      },
      "execution_count": 26,
      "outputs": [
        {
          "output_type": "stream",
          "name": "stdout",
          "text": [
            "dict_keys(['loss', 'accuracy', 'val_loss', 'val_accuracy'])\n"
          ]
        },
        {
          "output_type": "display_data",
          "data": {
            "text/plain": [
              "<Figure size 640x480 with 1 Axes>"
            ],
            "image/png": "[encoded data removed]"
          },
          "metadata": {}
        },
        {
          "output_type": "display_data",
          "data": {
            "text/plain": [
              "<Figure size 640x480 with 1 Axes>"
            ],
            "image/png": "[encoded data removed]"
          },
          "metadata": {}
        }
      ]
    },
    {
      "cell_type": "code",
      "source": [
        "# The model accuracy and loss graphs are very similar when comparing training and test test but are just shifted\n",
        "# up or down. THis shows that our model is able to learn and predict"
      ],
      "metadata": {
        "id": "_sE4kdzLo4Qu"
      },
      "execution_count": null,
      "outputs": []
    },
    {
      "cell_type": "code",
      "source": [],
      "metadata": {
        "id": "Rv2zWntfo4Ov"
      },
      "execution_count": null,
      "outputs": []
    },
    {
      "cell_type": "code",
      "source": [],
      "metadata": {
        "id": "xYkryBpGo4Mf"
      },
      "execution_count": null,
      "outputs": []
    },
    {
      "cell_type": "code",
      "source": [],
      "metadata": {
        "id": "UwgbAZRQo4KP"
      },
      "execution_count": null,
      "outputs": []
    }
  ]
}